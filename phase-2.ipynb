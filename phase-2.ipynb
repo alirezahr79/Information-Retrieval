{
 "cells": [
  {
   "cell_type": "markdown",
   "metadata": {
    "id": "TJD1wf5c5Wn6"
   },
   "source": [
    "<div style=\"direction:ltr; line-height:300%; font-size:20px;\">\n",
    "  <div align=\"center\">\n",
    "    <img src=\"./images/logo_sharif.png\" alt=\"Sharif University Logo\" width=\"350px\">\n",
    "    <h1>Advanced Recommender Systems</h1>\n",
    "    <h3>Sharif University of Technology</h3>\n",
    "    <p>Department of Computer Engineering</p>\n",
    "  </div>"
   ]
  },
  {
   "cell_type": "markdown",
   "metadata": {
    "id": "MNIMhq-Y5Wn7"
   },
   "source": [
    "# 🛠️ Phase 2: Machine Learning and Clustering for Document Retrieval\n",
    "\n",
    "In this phase, you'll enhance the system's retrieval capabilities using machine learning techniques. This involves implementing document classification and clustering to improve the search system developed in Phase 1.\n",
    "\n",
    "### Key Components:\n",
    "\n",
    "- **📂 Dataset**: Download the scientific articles dataset from [Kaggle](https://www.kaggle.com/datasets/spsayakpaul/arxiv-paper-abstracts?resource=download).\n",
    "- **📊 Naive Bayes Classification**: Implement a Naive Bayes classifier from scratch to categorize documents.\n",
    "- **🤖 Neural Network Classifier**: Implement a neural network classifier from scratch to categorize documents.\n",
    "- **🧠 Large Language Models**: Fine-tune a pre-trained language model to classify documents.\n",
    "- **🧮 Hierarchical Clustering**: Apply hierarchical clustering to group similar documents."
   ]
  },
  {
   "cell_type": "markdown",
   "metadata": {
    "heading_collapsed": true
   },
   "source": [
    "## 📂 Dataset Download and Exploration"
   ]
  },
  {
   "cell_type": "markdown",
   "metadata": {
    "hidden": true
   },
   "source": [
    "Start by downloading the dataset from Kaggle. Familiarize yourself with its structure and features.\n",
    "\n",
    "### Steps:\n",
    "\n",
    "1. **Download Dataset**: Obtain the dataset from the provided Kaggle link.\n",
    "2. **Explore the Data**: Inspect the dataset to understand its structure and contents.\n"
   ]
  },
  {
   "cell_type": "code",
   "execution_count": 1,
   "metadata": {
    "hidden": true
   },
   "outputs": [
    {
     "name": "stdout",
     "output_type": "stream",
     "text": [
      "Warning: Your Kaggle API key is readable by other users on this system! To fix this, you can run 'chmod 600 /home/alireza/.kaggle/kaggle.json'\n"
     ]
    }
   ],
   "source": [
    "import ast\n",
    "import collections\n",
    "import os\n",
    "\n",
    "import kaggle\n",
    "import pandas as pd\n",
    "\n",
    "import matplotlib.pyplot as plt\n",
    "import seaborn as sns\n",
    "\n",
    "from collections import Counter\n",
    "\n",
    "dataset_path = \"./arxiv_data.csv\""
   ]
  },
  {
   "cell_type": "code",
   "execution_count": 2,
   "metadata": {
    "hidden": true
   },
   "outputs": [
    {
     "data": {
      "text/html": [
       "<div>\n",
       "<style scoped>\n",
       "    .dataframe tbody tr th:only-of-type {\n",
       "        vertical-align: middle;\n",
       "    }\n",
       "\n",
       "    .dataframe tbody tr th {\n",
       "        vertical-align: top;\n",
       "    }\n",
       "\n",
       "    .dataframe thead th {\n",
       "        text-align: right;\n",
       "    }\n",
       "</style>\n",
       "<table border=\"1\" class=\"dataframe\">\n",
       "  <thead>\n",
       "    <tr style=\"text-align: right;\">\n",
       "      <th></th>\n",
       "      <th>titles</th>\n",
       "      <th>summaries</th>\n",
       "      <th>terms</th>\n",
       "    </tr>\n",
       "  </thead>\n",
       "  <tbody>\n",
       "    <tr>\n",
       "      <th>0</th>\n",
       "      <td>Survey on Semantic Stereo Matching / Semantic ...</td>\n",
       "      <td>Stereo matching is one of the widely used tech...</td>\n",
       "      <td>['cs.CV', 'cs.LG']</td>\n",
       "    </tr>\n",
       "    <tr>\n",
       "      <th>1</th>\n",
       "      <td>FUTURE-AI: Guiding Principles and Consensus Re...</td>\n",
       "      <td>The recent advancements in artificial intellig...</td>\n",
       "      <td>['cs.CV', 'cs.AI', 'cs.LG']</td>\n",
       "    </tr>\n",
       "    <tr>\n",
       "      <th>2</th>\n",
       "      <td>Enforcing Mutual Consistency of Hard Regions f...</td>\n",
       "      <td>In this paper, we proposed a novel mutual cons...</td>\n",
       "      <td>['cs.CV', 'cs.AI']</td>\n",
       "    </tr>\n",
       "    <tr>\n",
       "      <th>3</th>\n",
       "      <td>Parameter Decoupling Strategy for Semi-supervi...</td>\n",
       "      <td>Consistency training has proven to be an advan...</td>\n",
       "      <td>['cs.CV']</td>\n",
       "    </tr>\n",
       "    <tr>\n",
       "      <th>4</th>\n",
       "      <td>Background-Foreground Segmentation for Interio...</td>\n",
       "      <td>To ensure safety in automated driving, the cor...</td>\n",
       "      <td>['cs.CV', 'cs.LG']</td>\n",
       "    </tr>\n",
       "  </tbody>\n",
       "</table>\n",
       "</div>"
      ],
      "text/plain": [
       "                                              titles  \\\n",
       "0  Survey on Semantic Stereo Matching / Semantic ...   \n",
       "1  FUTURE-AI: Guiding Principles and Consensus Re...   \n",
       "2  Enforcing Mutual Consistency of Hard Regions f...   \n",
       "3  Parameter Decoupling Strategy for Semi-supervi...   \n",
       "4  Background-Foreground Segmentation for Interio...   \n",
       "\n",
       "                                           summaries  \\\n",
       "0  Stereo matching is one of the widely used tech...   \n",
       "1  The recent advancements in artificial intellig...   \n",
       "2  In this paper, we proposed a novel mutual cons...   \n",
       "3  Consistency training has proven to be an advan...   \n",
       "4  To ensure safety in automated driving, the cor...   \n",
       "\n",
       "                         terms  \n",
       "0           ['cs.CV', 'cs.LG']  \n",
       "1  ['cs.CV', 'cs.AI', 'cs.LG']  \n",
       "2           ['cs.CV', 'cs.AI']  \n",
       "3                    ['cs.CV']  \n",
       "4           ['cs.CV', 'cs.LG']  "
      ]
     },
     "execution_count": 2,
     "metadata": {},
     "output_type": "execute_result"
    }
   ],
   "source": [
    "def load_dataset(dataset_path):\n",
    "    if not os.path.exists(dataset_path):\n",
    "        kaggle.api.authenticate()\n",
    "        kaggle.api.dataset_download_files('spsayakpaul/arxiv-paper-abstracts', path='.', unzip=True)\n",
    "    return pd.read_csv(dataset_path)\n",
    "\n",
    "dataset_df = load_dataset(dataset_path)\n",
    "dataset_df.head()"
   ]
  },
  {
   "cell_type": "code",
   "execution_count": 3,
   "metadata": {
    "hidden": true,
    "scrolled": true
   },
   "outputs": [
    {
     "name": "stdout",
     "output_type": "stream",
     "text": [
      "\n",
      "Missing values in each column:\n",
      "titles       0\n",
      "summaries    0\n",
      "terms        0\n",
      "dtype: int64\n",
      "\n",
      "Data types of each column:\n",
      "titles       object\n",
      "summaries    object\n",
      "terms        object\n",
      "dtype: object\n",
      "\n",
      "Distribution of the number of terms associated with papers:\n",
      "num_terms\n",
      "1     20282\n",
      "2     16449\n",
      "3     10417\n",
      "4      3380\n",
      "5       983\n",
      "6       210\n",
      "7        44\n",
      "8         6\n",
      "9         2\n",
      "11        1\n",
      "Name: count, dtype: int64\n"
     ]
    },
    {
     "name": "stderr",
     "output_type": "stream",
     "text": [
      "/tmp/ipykernel_736920/1268097819.py:23: FutureWarning: \n",
      "\n",
      "Passing `palette` without assigning `hue` is deprecated and will be removed in v0.14.0. Assign the `x` variable to `hue` and set `legend=False` for the same effect.\n",
      "\n",
      "  sns.countplot(x=self.dataset_df['num_terms'], palette='viridis')\n"
     ]
    },
    {
     "data": {
      "image/png": "[encoded data removed]",
      "text/plain": [
       "<Figure size 800x600 with 1 Axes>"
      ]
     },
     "metadata": {},
     "output_type": "display_data"
    },
    {
     "name": "stdout",
     "output_type": "stream",
     "text": [
      "\n",
      "Most common terms (categories) and their counts:\n",
      "[('cs.CV', 30413), ('cs.LG', 29067), ('stat.ML', 15578), ('cs.AI', 7944), ('eess.IV', 2484), ('cs.RO', 1896), ('cs.CL', 1620), ('cs.NE', 1296), ('cs.CR', 717), ('cs.SI', 678)]\n"
     ]
    },
    {
     "data": {
      "image/png": "[encoded data removed]",
      "text/plain": [
       "<Figure size 1000x600 with 1 Axes>"
      ]
     },
     "metadata": {},
     "output_type": "display_data"
    },
    {
     "name": "stdout",
     "output_type": "stream",
     "text": [
      "\n",
      "Summary statistics of title lengths:\n",
      "count    51774.000000\n",
      "mean        72.269402\n",
      "std         22.627789\n",
      "min          9.000000\n",
      "25%         57.000000\n",
      "50%         71.000000\n",
      "75%         86.000000\n",
      "max        234.000000\n",
      "Name: title_length, dtype: float64\n",
      "\n",
      "Summary statistics of summary lengths:\n",
      "count    51774.000000\n",
      "mean      1203.778673\n",
      "std        313.454487\n",
      "min         29.000000\n",
      "25%        986.000000\n",
      "50%       1193.000000\n",
      "75%       1412.000000\n",
      "max       3309.000000\n",
      "Name: summary_length, dtype: float64\n"
     ]
    },
    {
     "data": {
      "image/png": "[encoded data removed]",
      "text/plain": [
       "<Figure size 800x600 with 1 Axes>"
      ]
     },
     "metadata": {},
     "output_type": "display_data"
    },
    {
     "data": {
      "image/png": "[encoded data removed]",
      "text/plain": [
       "<Figure size 800x600 with 1 Axes>"
      ]
     },
     "metadata": {},
     "output_type": "display_data"
    }
   ],
   "source": [
    "class DataAnalysis:\n",
    "    def __init__(self, dataset_df):\n",
    "        self.dataset_df = dataset_df\n",
    "\n",
    "    def display_missing_values(self):\n",
    "        \"\"\"Displays missing values for each column in the DataFrame.\"\"\"\n",
    "        print(\"\\nMissing values in each column:\")\n",
    "        print(self.dataset_df.isnull().sum())\n",
    "\n",
    "    def display_data_types(self):\n",
    "        \"\"\"Displays the data types of each column in the DataFrame.\"\"\"\n",
    "        print(\"\\nData types of each column:\")\n",
    "        print(self.dataset_df.dtypes)\n",
    "\n",
    "    def analyze_terms_distribution(self):\n",
    "        \"\"\"Analyzes and plots the distribution of the 'terms' column.\"\"\"\n",
    "        self.dataset_df['num_terms'] = self.dataset_df['terms'].apply(lambda x: len(ast.literal_eval(x)))\n",
    "\n",
    "        print(\"\\nDistribution of the number of terms associated with papers:\")\n",
    "        print(self.dataset_df['num_terms'].value_counts())\n",
    "\n",
    "        plt.figure(figsize=(8, 6))\n",
    "        sns.countplot(x=self.dataset_df['num_terms'], palette='viridis')\n",
    "        plt.title('Distribution of Number of Terms per Paper')\n",
    "        plt.xlabel('Number of Terms')\n",
    "        plt.ylabel('Count')\n",
    "        plt.show()\n",
    "\n",
    "    def analyze_most_common_terms(self):\n",
    "        \"\"\"Finds and plots the most common terms in the 'terms' column.\"\"\"\n",
    "        all_terms = [term for sublist in self.dataset_df['terms'].apply(ast.literal_eval).tolist() for term in sublist]\n",
    "        term_counts = collections.Counter(all_terms)\n",
    "\n",
    "        print(\"\\nMost common terms (categories) and their counts:\")\n",
    "        print(term_counts.most_common(10))\n",
    "\n",
    "        most_common_terms = term_counts.most_common(10)\n",
    "        terms, counts = zip(*most_common_terms)\n",
    "\n",
    "        plt.figure(figsize=(10, 6))\n",
    "        sns.barplot(x=counts, y=terms, color='blue')\n",
    "        plt.title('Top 10 Most Common Terms')\n",
    "        plt.xlabel('Count')\n",
    "        plt.ylabel('Term')\n",
    "        plt.show()\n",
    "\n",
    "    def analyze_paper_lengths(self):\n",
    "        \"\"\"Analyzes the lengths of summaries and titles and plots the distribution.\"\"\"\n",
    "        self.dataset_df['summary_length'] = self.dataset_df['summaries'].apply(len)\n",
    "        self.dataset_df['title_length'] = self.dataset_df['titles'].apply(len)\n",
    "\n",
    "        print(\"\\nSummary statistics of title lengths:\")\n",
    "        print(self.dataset_df['title_length'].describe())\n",
    "\n",
    "        print(\"\\nSummary statistics of summary lengths:\")\n",
    "        print(self.dataset_df['summary_length'].describe())\n",
    "\n",
    "        plt.figure(figsize=(8, 6))\n",
    "        sns.histplot(self.dataset_df['title_length'], bins=30, kde=True, color='blue')\n",
    "        plt.title('Distribution of Title Lengths')\n",
    "        plt.xlabel('Title Length')\n",
    "        plt.ylabel('Frequency')\n",
    "        plt.show()\n",
    "\n",
    "        plt.figure(figsize=(8, 6))\n",
    "        sns.histplot(self.dataset_df['summary_length'], bins=30, kde=True, color='blue')\n",
    "        plt.title('Distribution of Summary Lengths')\n",
    "        plt.xlabel('Summary Length')\n",
    "        plt.ylabel('Frequency')\n",
    "        plt.show()\n",
    "\n",
    "analysis = DataAnalysis(dataset_df)\n",
    "analysis.display_missing_values()\n",
    "analysis.display_data_types()\n",
    "analysis.analyze_terms_distribution()\n",
    "analysis.analyze_most_common_terms()\n",
    "analysis.analyze_paper_lengths()"
   ]
  },
  {
   "cell_type": "markdown",
   "metadata": {
    "heading_collapsed": true
   },
   "source": [
    "## 📊 Naive Bayes Classification:"
   ]
  },
  {
   "cell_type": "markdown",
   "metadata": {
    "hidden": true
   },
   "source": [
    "In this section, you'll classify documents using a Naive Bayes classifier, which you'll implement from scratch.\n",
    "\n",
    "### Steps:\n",
    "1. **Reduce Dataset Size**: Choose a smaller subset of the data that still covers all relevant classes.\n",
    "2. **Build Feature Vectors**: Create vectors based on word counts for each document.\n",
    "3. **Implement Naive Bayes Classifier**: Develop the classifier from the ground up and use it to categorize documents.\n",
    "4. **Train & Evaluate**: Train the classifier on the reduced dataset and evaluate its performance."
   ]
  },
  {
   "cell_type": "code",
   "execution_count": null,
   "metadata": {
    "hidden": true
   },
   "outputs": [],
   "source": [
    "import nltk\n",
    "from nltk import word_tokenize\n",
    "import string\n",
    "\n",
    "import numpy as np\n",
    "import pandas as pd\n",
    "\n",
    "from sklearn.feature_extraction.text import CountVectorizer\n",
    "from sklearn.metrics import (\n",
    "    accuracy_score,\n",
    "    confusion_matrix,\n",
    "    ConfusionMatrixDisplay,\n",
    "    f1_score,\n",
    "    precision_recall_fscore_support,\n",
    "    recall_score,\n",
    "    roc_curve,\n",
    "    auc,\n",
    ")\n",
    "from sklearn.model_selection import train_test_split\n",
    "from sklearn.preprocessing import label_binarize\n",
    "\n",
    "import matplotlib.pyplot as plt\n",
    "import seaborn as sns"
   ]
  },
  {
   "cell_type": "markdown",
   "metadata": {
    "heading_collapsed": true,
    "hidden": true
   },
   "source": [
    "### Data Reduction\n",
    "\n",
    "To optimize the performance of your Naive Bayes classifier, you may reduce the dataset size. Focus on selecting a representative subset that includes all three classes."
   ]
  },
  {
   "cell_type": "code",
   "execution_count": 4,
   "metadata": {
    "hidden": true
   },
   "outputs": [
    {
     "data": {
      "text/html": [
       "<div>\n",
       "<style scoped>\n",
       "    .dataframe tbody tr th:only-of-type {\n",
       "        vertical-align: middle;\n",
       "    }\n",
       "\n",
       "    .dataframe tbody tr th {\n",
       "        vertical-align: top;\n",
       "    }\n",
       "\n",
       "    .dataframe thead th {\n",
       "        text-align: right;\n",
       "    }\n",
       "</style>\n",
       "<table border=\"1\" class=\"dataframe\">\n",
       "  <thead>\n",
       "    <tr style=\"text-align: right;\">\n",
       "      <th></th>\n",
       "      <th>num_terms</th>\n",
       "      <th>summary_length</th>\n",
       "      <th>title_length</th>\n",
       "    </tr>\n",
       "  </thead>\n",
       "  <tbody>\n",
       "    <tr>\n",
       "      <th>count</th>\n",
       "      <td>21000.000000</td>\n",
       "      <td>21000.000000</td>\n",
       "      <td>21000.000000</td>\n",
       "    </tr>\n",
       "    <tr>\n",
       "      <th>mean</th>\n",
       "      <td>2.005762</td>\n",
       "      <td>1207.161952</td>\n",
       "      <td>72.351714</td>\n",
       "    </tr>\n",
       "    <tr>\n",
       "      <th>std</th>\n",
       "      <td>1.051290</td>\n",
       "      <td>313.989256</td>\n",
       "      <td>22.502443</td>\n",
       "    </tr>\n",
       "    <tr>\n",
       "      <th>min</th>\n",
       "      <td>1.000000</td>\n",
       "      <td>29.000000</td>\n",
       "      <td>9.000000</td>\n",
       "    </tr>\n",
       "    <tr>\n",
       "      <th>25%</th>\n",
       "      <td>1.000000</td>\n",
       "      <td>989.000000</td>\n",
       "      <td>57.000000</td>\n",
       "    </tr>\n",
       "    <tr>\n",
       "      <th>50%</th>\n",
       "      <td>2.000000</td>\n",
       "      <td>1199.000000</td>\n",
       "      <td>71.000000</td>\n",
       "    </tr>\n",
       "    <tr>\n",
       "      <th>75%</th>\n",
       "      <td>3.000000</td>\n",
       "      <td>1417.000000</td>\n",
       "      <td>86.000000</td>\n",
       "    </tr>\n",
       "    <tr>\n",
       "      <th>max</th>\n",
       "      <td>8.000000</td>\n",
       "      <td>3309.000000</td>\n",
       "      <td>211.000000</td>\n",
       "    </tr>\n",
       "  </tbody>\n",
       "</table>\n",
       "</div>"
      ],
      "text/plain": [
       "          num_terms  summary_length  title_length\n",
       "count  21000.000000    21000.000000  21000.000000\n",
       "mean       2.005762     1207.161952     72.351714\n",
       "std        1.051290      313.989256     22.502443\n",
       "min        1.000000       29.000000      9.000000\n",
       "25%        1.000000      989.000000     57.000000\n",
       "50%        2.000000     1199.000000     71.000000\n",
       "75%        3.000000     1417.000000     86.000000\n",
       "max        8.000000     3309.000000    211.000000"
      ]
     },
     "execution_count": 4,
     "metadata": {},
     "output_type": "execute_result"
    }
   ],
   "source": [
    "NB_DATA_SIZE = 21000\n",
    "NB_TRAIN_SIZE = 19000\n",
    "\n",
    "\n",
    "reduced_df = dataset_df.sample(NB_DATA_SIZE)\n",
    "reduced_df.describe()"
   ]
  },
  {
   "cell_type": "markdown",
   "metadata": {
    "heading_collapsed": true,
    "hidden": true
   },
   "source": [
    "### Build Feature Vectors\n",
    "\n",
    "Extract the label from the 'terms' column."
   ]
  },
  {
   "cell_type": "code",
   "execution_count": null,
   "metadata": {
    "hidden": true
   },
   "outputs": [],
   "source": [
    "def extract_label_from_labels(labels):\n",
    "    splitted = labels.split()\n",
    "    return splitted[0].replace(\"'\", \"\").replace('[', '').replace(']', '').replace(',', '')"
   ]
  },
  {
   "cell_type": "code",
   "execution_count": null,
   "metadata": {
    "hidden": true,
    "id": "h6UJBgbU5WoD"
   },
   "outputs": [],
   "source": [
    "def preprocess_text(text, minimum_length=1, stopword_removal=True, stopwords_domain=[], lower_case=True,\n",
    "                       punctuation_removal=True):\n",
    "    \n",
    "    tokens = word_tokenize(text)\n",
    "\n",
    "    if stopword_removal:\n",
    "        stopwords = [x.lower() for x in nltk.corpus.stopwords.words('english')]\n",
    "        domain_stopwords = [x.lower() for x in stopwords_domain]\n",
    "        tokens = [word for word in tokens if word.lower() not in domain_stopwords + stopwords]\n",
    "\n",
    "    if punctuation_removal:\n",
    "        tokens = [word for word in tokens if word not in string.punctuation]\n",
    "\n",
    "    if lower_case:\n",
    "        tokens = [word.lower() for word in tokens if len(word) > minimum_length]\n",
    "    else:\n",
    "        tokens = [word for word in tokens if len(word) > minimum_length]\n",
    "\n",
    "    return tokens"
   ]
  },
  {
   "cell_type": "code",
   "execution_count": null,
   "metadata": {
    "hidden": true,
    "id": "p0OOvg7M5WoD"
   },
   "outputs": [],
   "source": [
    "labels = [extract_label_from_labels(labels) for labels in reduced_df['terms']]\n",
    "corpus = []\n",
    "for i, (index, row) in enumerate(reduced_df.iterrows()):\n",
    "    titles, summaries, label = row['titles'], row['summaries'], labels[i]\n",
    "    title_token = preprocess_text(titles)\n",
    "    summaries_token = preprocess_text(summaries)\n",
    "    corpus.append({'title':title_token, 'summaries':summaries_token, 'label':label})"
   ]
  },
  {
   "cell_type": "code",
   "execution_count": null,
   "metadata": {
    "hidden": true,
    "id": "W6FnUEq35WoD"
   },
   "outputs": [],
   "source": [
    "flattened_corpus = []\n",
    "for paper in corpus:\n",
    "    data_title = ' '.join(paper['title'])\n",
    "    data_summary = ' '.join(paper['summaries'])\n",
    "    flattened_corpus.append(data_title + \" \" + data_summary)\n",
    "\n",
    "vectorizer = CountVectorizer()\n",
    "doc_word_matrix = vectorizer.fit_transform(flattened_corpus)"
   ]
  },
  {
   "cell_type": "markdown",
   "metadata": {
    "hidden": true
   },
   "source": [
    "### Implement Naive Bayes Classifier\n",
    "We'll implement the `fit` and `predict` methods of the NaiveBayes class in the following code"
   ]
  },
  {
   "cell_type": "code",
   "execution_count": null,
   "metadata": {
    "hidden": true,
    "id": "O5-Fh_c65WoD"
   },
   "outputs": [],
   "source": [
    "class NaiveBayes():\n",
    "    def __init__(self, alpha=1.0):\n",
    "        self.prior = None\n",
    "        self.word_counts = None\n",
    "        self.lk_word = None\n",
    "        self.alpha = alpha\n",
    "        \n",
    "    def fit(self, x, y):\n",
    "        '''\n",
    "        Fit the features and the labels\n",
    "        Calculate prior, word_counts and lk_word\n",
    "        \n",
    "        Parameters\n",
    "        ----------\n",
    "        x: np.ndarray\n",
    "            An m * n matrix - m is count \n",
    "            of docs and n is size of vocabulary\n",
    "\n",
    "        y: np.ndarray\n",
    "            The real class label for each doc\n",
    "            \n",
    "        Returns\n",
    "        -------\n",
    "        self\n",
    "            Returns self as a classifier\n",
    "        '''\n",
    "        \n",
    "        size = x.shape[1]\n",
    "        self.prior = np.bincount(y) / len(y)\n",
    "        self.word_counts = np.zeros((len(np.unique(y)), size))\n",
    "        for c in np.unique(y):\n",
    "            self.word_counts[c] = np.sum(x[y == c], axis=0)\n",
    "        self.lk_word = (self.word_counts + self.alpha) / (np.sum(self.word_counts, axis=1)[:, np.newaxis] + self.alpha * size)\n",
    "        return self\n",
    "\n",
    "    def predict(self, x):\n",
    "        '''\n",
    "        Parameters\n",
    "        ----------\n",
    "        x: np.ndarray\n",
    "            An k * n matrix - k is count \n",
    "            of docs and n is vocabulary size\n",
    "        \n",
    "        Returns\n",
    "        -------\n",
    "        np.ndarray\n",
    "            Return the predicted class for each doc\n",
    "            with the highest probability (argmax)\n",
    "        '''\n",
    "        \n",
    "        posterior = np.log(self.prior) + np.dot(x, np.log(self.lk_word.T))\n",
    "        return np.argmax(posterior, axis=1)"
   ]
  },
  {
   "cell_type": "markdown",
   "metadata": {
    "hidden": true
   },
   "source": [
    "### Train & Evaluate"
   ]
  },
  {
   "cell_type": "code",
   "execution_count": null,
   "metadata": {
    "hidden": true,
    "id": "T-sWLxdS5WoE"
   },
   "outputs": [],
   "source": [
    "distinct_labels = list(set([paper['label'] for paper in corpus]))\n",
    "indices = [distinct_labels.index(paper['label']) for paper in corpus]"
   ]
  },
  {
   "cell_type": "code",
   "execution_count": null,
   "metadata": {
    "hidden": true,
    "id": "XRGX7Ucg5WoE"
   },
   "outputs": [],
   "source": [
    "classifier = NaiveBayes()\n",
    "nb_train_x, nb_train_y= np.array(doc_word_matrix.toarray()[:NB_TRAIN_SIZE]), np.array(indices[:NB_TRAIN_SIZE])\n",
    "nb_test_x, nb_test_y = np.array(doc_word_matrix.toarray()[NB_TRAIN_SIZE:]), np.array(indices[NB_TRAIN_SIZE:])\n",
    "classifier.fit(nb_train_x, nb_train_y)\n",
    "prediction = classifier.predict(nb_test_x)"
   ]
  },
  {
   "cell_type": "code",
   "execution_count": null,
   "metadata": {
    "hidden": true,
    "id": "m_HoZIey5WoE",
    "outputId": "2a8d36fe-7504-435d-f5fc-64f24952be47"
   },
   "outputs": [],
   "source": [
    "def get_metric(actual, pred, func, **kwargs):\n",
    "    return round(100 * func(actual, pred, **kwargs), 2)\n",
    "\n",
    "print(f'accuracy = {get_metric(nb_test_y, prediction, accuracy_score)}%')\n",
    "\n",
    "print(\"---------------------------------------------------------------\")\n",
    "print(f'macro precision = {get_metric(nb_test_y, prediction, precision_score, average=\"macro\")}%')\n",
    "print(f'macro recall = {get_metric(nb_test_y, prediction, recall_score, average=\"macro\")}%')\n",
    "print(f'macro f1-score = {get_metric(nb_test_y, prediction, f1_score, average=\"macro\")}%')\n",
    "\n",
    "print(\"---------------------------------------------------------------\")\n",
    "print(f'micro precision = {get_metric(nb_test_y, prediction, precision_score, average=\"micro\")}%')\n",
    "print(f'micro precision = {get_metric(nb_test_y, prediction, precision_score, average=\"micro\")}%')\n",
    "print(f'micro precision = {get_metric(nb_test_y, prediction, precision_score, average=\"micro\")}%')"
   ]
  },
  {
   "cell_type": "code",
   "execution_count": null,
   "metadata": {
    "hidden": true,
    "id": "RqZNdRZ15WoE",
    "outputId": "7bd3f4d2-0277-44ff-fc57-a5217e8bc02b"
   },
   "outputs": [],
   "source": [
    "actual_labels = nb_test_y \n",
    "predicted_labels = prediction\n",
    "\n",
    "n_classes = 3\n",
    "\n",
    "binarized_labels = label_binarize(actual_labels, classes=np.unique(actual_labels))\n",
    "\n",
    "predicted_labels_2d = np.zeros((len(predicted_labels), n_classes))\n",
    "predicted_labels_2d[np.arange(len(predicted_labels)), predicted_labels] = 1\n",
    "\n",
    "fpr = dict()\n",
    "tpr = dict()\n",
    "roc_auc = dict()\n",
    "for i in range(n_classes):\n",
    "    fpr[i], tpr[i], _ = roc_curve(binarized_labels[:, i], predicted_labels_2d[:, i])\n",
    "    roc_auc[i] = auc(fpr[i], tpr[i])\n",
    "\n",
    "fpr[\"micro\"], tpr[\"micro\"], _ = roc_curve(binarized_labels.ravel(), predicted_labels_2d.ravel())\n",
    "roc_auc[\"micro\"] = auc(fpr[\"micro\"], tpr[\"micro\"])\n",
    "\n",
    "plt.figure()\n",
    "lw = 2\n",
    "plt.plot(fpr[\"micro\"], tpr[\"micro\"], color='deeppink', lw=lw, label='micro-average ROC curve (AUC = {0:0.2f})'\n",
    "         ''.format(roc_auc[\"micro\"]))\n",
    "for i in range(n_classes):\n",
    "    plt.plot(fpr[i], tpr[i], lw=lw, label='ROC curve of class {0} (AUC = {1:0.2f})'\n",
    "             ''.format(i, roc_auc[i]))\n",
    "\n",
    "plt.plot([0, 1], [0, 1], color='navy', lw=lw, linestyle='--')\n",
    "plt.xlim([0.0, 1.0])\n",
    "plt.ylim([0.0, 1.05])\n",
    "plt.xlabel('False Positive Rate')\n",
    "plt.ylabel('True Positive Rate')\n",
    "plt.title('Receiver Operating Characteristic (ROC) Curve')\n",
    "plt.legend(loc=\"lower right\")\n",
    "plt.show()\n"
   ]
  },
  {
   "cell_type": "code",
   "execution_count": null,
   "metadata": {
    "hidden": true,
    "id": "nrtgc5gY5WoF",
    "outputId": "6c362b9f-5234-4275-a7dd-b1eb9c8fa4fa",
    "scrolled": false
   },
   "outputs": [],
   "source": [
    "def plot_confusion_matrix(y_true, y_pred, classes):\n",
    "    confusion_mat = np.zeros((3, 3), dtype=int)\n",
    "\n",
    "    for true, pred in zip(y_true, y_pred):\n",
    "        confusion_mat[true, pred] += 1\n",
    "\n",
    "    sns.heatmap(confusion_mat, annot=True, xticklabels=classes, yticklabels=classes)\n",
    "    plt.xlabel(\"predicted\")\n",
    "    plt.ylabel(\"actual\")\n",
    "    plt.show()\n",
    "\n",
    "plot_confusion_matrix(nb_test_y, prediction, distinct_labels)"
   ]
  },
  {
   "cell_type": "markdown",
   "metadata": {
    "heading_collapsed": true
   },
   "source": [
    "## 🤖 Neural Network Classifier"
   ]
  },
  {
   "cell_type": "markdown",
   "metadata": {
    "hidden": true
   },
   "source": [
    "In this section, you'll implement a simple neural network to classify the documents. This will allow you to compare the performance of traditional methods like Naive Bayes with more modern techniques like neural networks."
   ]
  },
  {
   "cell_type": "code",
   "execution_count": null,
   "metadata": {
    "hidden": true
   },
   "outputs": [],
   "source": [
    "import torch\n",
    "from transformers import (\n",
    "    BertTokenizer,\n",
    "    BertForSequenceClassification,\n",
    "    TrainingArguments,\n",
    "    Trainer\n",
    ")\n",
    "from torch.utils.data import random_split\n",
    "from torch.utils.data import Dataset, DataLoader\n",
    "\n",
    "import nltk\n",
    "import string\n",
    "import numpy as np\n",
    "import pandas as pd\n",
    "from sklearn.model_selection import train_test_split\n",
    "from sklearn.metrics import (\n",
    "    precision_recall_fscore_support,\n",
    "    recall_score,\n",
    "    f1_score,\n",
    "    accuracy_score,\n",
    "    confusion_matrix,\n",
    "    ConfusionMatrixDisplay,\n",
    ")\n",
    "from torch import nn\n",
    "\n",
    "from nltk import word_tokenize\n",
    "from tqdm import tqdm\n",
    "import torch\n",
    "from transformers import (\n",
    "    BertTokenizer,\n",
    "    BertForSequenceClassification,\n",
    "    TrainingArguments,\n",
    "    Trainer,\n",
    ")\n",
    "import fasttext\n",
    "import matplotlib.pyplot as plt\n",
    "import seaborn as sns\n",
    "from sklearn.metrics import recall_score, accuracy_score, f1_score, precision_score\n",
    "\n",
    "\n",
    "from tqdm import tqdm"
   ]
  },
  {
   "cell_type": "markdown",
   "metadata": {
    "heading_collapsed": true,
    "hidden": true
   },
   "source": [
    "### Load & Preprocess Data"
   ]
  },
  {
   "cell_type": "code",
   "execution_count": null,
   "metadata": {
    "hidden": true,
    "id": "pLdIp2J85WoF"
   },
   "outputs": [],
   "source": [
    "# read data\n",
    "df = pd.read_csv('./arxiv_data.csv')\n",
    "df = df.drop_duplicates(subset=['summaries', 'titles'])\n",
    "df = df.head(NB_DATA_SIZE)"
   ]
  },
  {
   "cell_type": "code",
   "execution_count": null,
   "metadata": {
    "hidden": true,
    "id": "z8bv7u7j5WoH"
   },
   "outputs": [],
   "source": [
    "def preprocess_text(text, minimum_length=1, stopword_removal=True, stopwords_domain=[], lower_case=True,\n",
    "                       punctuation_removal=True):\n",
    "    \n",
    "    tokens = word_tokenize(text)\n",
    "\n",
    "    if stopword_removal:\n",
    "        stopwords = [x.lower() for x in nltk.corpus.stopwords.words('english')]\n",
    "        domain_stopwords = [x.lower() for x in stopwords_domain]\n",
    "        tokens = [word for word in tokens if word.lower() not in domain_stopwords + stopwords]\n",
    "\n",
    "    if punctuation_removal:\n",
    "        tokens = [word for word in tokens if word not in string.punctuation]\n",
    "\n",
    "    if lower_case:\n",
    "        tokens = [word.lower() for word in tokens if len(word) > minimum_length]\n",
    "    else:\n",
    "        tokens = [word for word in tokens if len(word) > minimum_length]\n",
    "\n",
    "    return tokens"
   ]
  },
  {
   "cell_type": "markdown",
   "metadata": {
    "hidden": true,
    "id": "970g_i4R5WoH"
   },
   "source": [
    "\n",
    "<div dir=\"rtl\">\n",
    "<font face=\"XB Zar\" size=5>\n",
    "</font>\n",
    "<font face=\"XB Zar\" size=3>\n",
    "     <br>\n",
    "\n",
    "</font>\n",
    "</div>"
   ]
  },
  {
   "cell_type": "code",
   "execution_count": null,
   "metadata": {
    "hidden": true,
    "id": "pY_JQXVz5WoH"
   },
   "outputs": [],
   "source": [
    "# preprocess text\n",
    "df['preprocessed_abstract'] = df['summaries'].apply(lambda x: preprocess_text(x))\n",
    "df['preprocessed_title'] = df['titles'].apply(lambda x: preprocess_text(x))\n",
    "df['text'] = df['preprocessed_abstract'] + df['preprocessed_title']\n",
    "df['label'] = [extract_label_from_labels(labels) for labels in df['terms']]\n",
    "df['text'] = df['text'].apply(lambda x: \" \".join(x))"
   ]
  },
  {
   "cell_type": "code",
   "execution_count": null,
   "metadata": {
    "hidden": true,
    "id": "1Sjb1z_SseTZ"
   },
   "outputs": [],
   "source": [
    "distinct_labels = ['cs.CV' , 'cs.LG', 'stat.ML']"
   ]
  },
  {
   "cell_type": "markdown",
   "metadata": {
    "heading_collapsed": true,
    "hidden": true,
    "id": "1fh87DsT5WoH"
   },
   "source": [
    "### Feature Extraction"
   ]
  },
  {
   "cell_type": "markdown",
   "metadata": {
    "hidden": true,
    "id": "4JCaxGLF5WoH"
   },
   "source": [
    "this section, we'll utilize **FastText** to generate initial embeddings for each document in the dataset. Thus, we'll use the following steps:\n",
    "1. **Train FastText Model**:\n",
    "   - Use the available data to train a FastText model that generates 100-dimensional embeddings for each token.\n",
    "  \n",
    "2. **Compute Document Embeddings**:\n",
    "   - For each document (title + abstract), compute a weighted average of the FastText embeddings of its tokens.\n",
    "   - The weights for each token are derived from its TF-IDF score, allowing for a more meaningful representation of the document.\n",
    "  \n",
    "3. **Final Embedding**:\n",
    "   - The final embedding for each document is the weighted average of its token embeddings, where the weights are the tokens' TF-IDF values."
   ]
  },
  {
   "cell_type": "code",
   "execution_count": null,
   "metadata": {
    "hidden": true,
    "id": "F_i84iRx5WoH"
   },
   "outputs": [],
   "source": [
    "class FastText:\n",
    "\n",
    "    def __init__(self, preprocessor=None, method='skipgram'):\n",
    "        self.method = method\n",
    "        self.model = None\n",
    "        self.preprocessor = preprocessor\n",
    "\n",
    "    def train(self, texts):\n",
    "        \"\"\"\n",
    "        train the fasttext model and save it into self.model\n",
    "        Parameters\n",
    "        ----------\n",
    "        texts: list of list of str\n",
    "        \"\"\"\n",
    "        self.model = fasttext.train_unsupervised(texts, model=self.method, dim=100, epoch=20)\n",
    "\n",
    "    def get_query_embedding(self, query, tf_idf_vectorizer):\n",
    "        \"\"\"\n",
    "        get the embedding of the query. You can use the tf_idf_vectorizer to get the weights of the words in the query. preprocess the query using self.preprocessor if it is not None\n",
    "        Parameters\n",
    "        ----------\n",
    "        query: str\n",
    "        tf_idf_vectorizer: TfidfVectorizer\n",
    "        Returns embedding of the query\n",
    "        \"\"\"\n",
    "        if tf_idf_vectorizer is not None:\n",
    "            query_tokens = tf_idf_vectorizer.transform([query]).nonzero()[1]\n",
    "            feature_names = np.array(tf_idf_vectorizer.get_feature_names_out())\n",
    "            word_vectors = [self.model.get_word_vector(feature_names[token]) for token in query_tokens]\n",
    "            if word_vectors:\n",
    "                query_embedding = np.mean(word_vectors, axis=0)\n",
    "            else:\n",
    "                query_embedding = np.zeros(self.model.get_dimension()) \n",
    "\n",
    "            return query_embedding\n",
    "        \n",
    "        query_embed = self.model.get_sentence_vector(query)\n",
    "\n",
    "        return query_embed\n",
    "\n",
    "    def save_FastText_model(self, path='FastText_model.bin'):\n",
    "        self.model.save_model(path)\n",
    "  \n",
    "    def load_FastText_model(self, path=\"FastText_model.bin\"):\n",
    "        self.model = fasttext.load_model(path)\n",
    "\n",
    "    def prepare(self, dataset, mode, save=False):\n",
    "        if mode == 'train':\n",
    "            self.train(dataset)\n",
    "        if mode == 'load':\n",
    "            self.load_FastText_model()\n",
    "        if save:\n",
    "            self.save_FastText_model()"
   ]
  },
  {
   "cell_type": "code",
   "execution_count": null,
   "metadata": {
    "hidden": true,
    "id": "kPIMGwjT5WoI",
    "outputId": "00e33e08-e46f-44be-c121-30cdc83e60c5"
   },
   "outputs": [],
   "source": [
    "FastText_model = FastText(preprocessor=preprocess_text)\n",
    "FastText_model.prepare('df.txt', mode='train', save=True)\n",
    "# FastText_model.prepare(preprocessed_total, mode='load')"
   ]
  },
  {
   "cell_type": "code",
   "execution_count": null,
   "metadata": {
    "hidden": true,
    "id": "nFxXTOvB5WoI",
    "outputId": "442e5e53-62e9-4115-ad69-66a03a72b677"
   },
   "outputs": [],
   "source": [
    "text = 'covid'\n",
    "FastText_model.model.get_nearest_neighbors(text)"
   ]
  },
  {
   "cell_type": "code",
   "execution_count": null,
   "metadata": {
    "hidden": true,
    "id": "XbRxpXVR5WoI"
   },
   "outputs": [],
   "source": [
    "from sklearn.feature_extraction.text import TfidfVectorizer\n",
    "\n",
    "class TF_IDF:\n",
    "    def __init__(self):\n",
    "        self.vectorizer = TfidfVectorizer()\n",
    "\n",
    "    def fit_vectorizer(self, data):\n",
    "        \"\"\"\n",
    "        fit the vectorizer on the data\n",
    "        Parameters\n",
    "        ----------\n",
    "        data: list of list of str\n",
    "        \"\"\"\n",
    "        self.vectorizer.fit(data)"
   ]
  },
  {
   "cell_type": "code",
   "execution_count": null,
   "metadata": {
    "hidden": true,
    "id": "c6XB6rcR5WoI"
   },
   "outputs": [],
   "source": [
    "TF_IDF_model = TF_IDF()\n",
    "TF_IDF_model.fit_vectorizer(df['text'])"
   ]
  },
  {
   "cell_type": "code",
   "execution_count": null,
   "metadata": {
    "hidden": true,
    "id": "KpvwYus85WoI",
    "outputId": "35ec5351-faf5-40c4-fa9c-88ac84708e5d"
   },
   "outputs": [],
   "source": [
    "text =  \"backpropagation is good\"\n",
    "TF_IDF_model.vectorizer.transform([' '.join(text)])\n",
    "FastText_model.get_query_embedding(text, TF_IDF_model.vectorizer)"
   ]
  },
  {
   "cell_type": "code",
   "execution_count": null,
   "metadata": {
    "hidden": true,
    "id": "DZjwGNYJ5WoI"
   },
   "outputs": [],
   "source": [
    "embeddings = []\n",
    "for paper in df['text']:\n",
    "    embedding = FastText_model.get_query_embedding(paper, TF_IDF_model.vectorizer)\n",
    "    embeddings.append(embedding)"
   ]
  },
  {
   "cell_type": "markdown",
   "metadata": {
    "heading_collapsed": true,
    "hidden": true,
    "id": "sAU36KzH5WoI"
   },
   "source": [
    "### Prepare the Dataset"
   ]
  },
  {
   "cell_type": "code",
   "execution_count": null,
   "metadata": {
    "hidden": true,
    "id": "1h_GdcAQ5WoJ"
   },
   "outputs": [],
   "source": [
    "class PapersDataSet(Dataset):\n",
    "    def __init__(self, embeddings: list, labels: list):\n",
    "        self.embeddings = embeddings\n",
    "        self.labels = labels\n",
    "        \n",
    "    def __len__(self):\n",
    "        return len(self.labels)\n",
    "\n",
    "    def __getitem__(self, i):\n",
    "        return self.embeddings[i], self.labels[i]"
   ]
  },
  {
   "cell_type": "code",
   "execution_count": null,
   "metadata": {
    "hidden": true,
    "id": "HXdxUzKD5WoJ"
   },
   "outputs": [],
   "source": [
    "BATCH_SIZE = 128\n",
    "labels_str, labels = np.unique(df['label'], return_inverse=True)\n",
    "dataset = PapersDataSet(embeddings, labels)\n",
    "train_dataset, val_dataset, test_dataset = random_split(dataset, [0.8, 0.1 , 0.1])\n",
    "\n",
    "train_loader = DataLoader(train_dataset, batch_size=BATCH_SIZE, shuffle=True)\n",
    "val_loader = DataLoader(val_dataset, batch_size=BATCH_SIZE)\n",
    "test_loader = DataLoader(test_dataset, batch_size=BATCH_SIZE)"
   ]
  },
  {
   "cell_type": "markdown",
   "metadata": {
    "heading_collapsed": true,
    "hidden": true,
    "id": "WhelHobx5WoJ"
   },
   "source": [
    "### Define the Network Architecture\n",
    "\n",
    "In this section, we define the network architecture of our model."
   ]
  },
  {
   "cell_type": "code",
   "execution_count": null,
   "metadata": {
    "hidden": true,
    "id": "U69ULC_q5WoJ"
   },
   "outputs": [],
   "source": [
    "class ClassifierModel(nn.Module):\n",
    "    def __init__(self, in_features=100, num_classes=3):\n",
    "        super().__init__()\n",
    "        self.num_classes = num_classes\n",
    "        self.in_features = in_features\n",
    "        \n",
    "        self.fc1 = nn.Linear(self.in_features, 32)\n",
    "        self.bn1 = nn.BatchNorm1d(32)\n",
    "        self.act1 = nn.GELU()\n",
    "        self.fc2 = nn.Linear(32, self.num_classes)\n",
    "\n",
    "    \n",
    "    def forward(self, x):\n",
    "        out = self.fc1(x)\n",
    "        out = self.bn1(out)\n",
    "        out = self.act1(out)\n",
    "        out = self.fc2(out)\n",
    "        return out"
   ]
  },
  {
   "cell_type": "code",
   "execution_count": null,
   "metadata": {
    "hidden": true
   },
   "outputs": [],
   "source": [
    "# define the loss function and the optimizer. We suggest using Adam optimizer\n",
    "device = torch.device('cuda' if torch.cuda.is_available() else 'cpu')\n",
    "model = ClassifierModel().to(device)\n",
    "criterion = nn.CrossEntropyLoss()\n",
    "optimizer = torch.optim.Adam(model.parameters(), lr=0.0002)\n",
    "lr_scheduler = torch.optim.lr_scheduler.ReduceLROnPlateau(optimizer, patience=3, verbose=True)"
   ]
  },
  {
   "cell_type": "markdown",
   "metadata": {
    "heading_collapsed": true,
    "hidden": true,
    "id": "cwvv2aT85WoJ"
   },
   "source": [
    "### Train the Network"
   ]
  },
  {
   "cell_type": "code",
   "execution_count": null,
   "metadata": {
    "hidden": true,
    "id": "NhGoe5nZ5WoK"
   },
   "outputs": [],
   "source": [
    "def eval_epoch(model: nn.Module, criterion: nn.Module, dataloader: torch.utils.data.DataLoader, test_mode=False):\n",
    "    \"\"\"\n",
    "    Evaluate the model on the given dataloader. used for validation and test\n",
    "    Parameters\n",
    "    ----------\n",
    "    model: nn.Module\n",
    "    criterion: nn.Module\n",
    "    dataloader: torch.utils.data.DataLoader\n",
    "    test_mode: bool\n",
    "        If True, the function will print 'Test' instead of 'Validation'\n",
    "    Returns\n",
    "    -------\n",
    "    eval_loss: float\n",
    "        The loss on the given dataloader\n",
    "    predicted_labels: list\n",
    "        The predicted labels\n",
    "    true_labels: list\n",
    "        The true labels\n",
    "    f1_score_macro: float\n",
    "        The f1 score on the given dataloader\n",
    "    \"\"\"\n",
    "\n",
    "    \n",
    "    total_loss = 0.0\n",
    "    predicted_labels, actual_labels = [], []\n",
    "    model.eval()\n",
    "\n",
    "    with torch.no_grad():\n",
    "        for x, labels in dataloader:\n",
    "            x, labels= x.to(device), labels.to(device)\n",
    "\n",
    "            model_out = model(x)\n",
    "            loss = criterion(model_out, labels) * len(labels)\n",
    "            total_loss += loss.item()\n",
    "            preds = torch.argmax(model_out, axis=1)\n",
    "            predicted_labels.extend(preds.cpu().tolist())\n",
    "            actual_labels.extend(labels.cpu().tolist())\n",
    "\n",
    "    total_loss /= len(dataloader.dataset)\n",
    "\n",
    "    f1_score_macro = f1_score(predicted_labels, actual_labels, average='macro')\n",
    "    print(f\"Loss: {round(total_loss, 4)} - f1 macro: {round(f1_score_macro, 4)} on {'test' if test_mode else 'validation'} set\")\n",
    "    return total_loss, predicted_labels, actual_labels, f1_score_macro"
   ]
  },
  {
   "cell_type": "code",
   "execution_count": null,
   "metadata": {
    "hidden": true,
    "id": "v85uPoHM5WoK",
    "outputId": "b666e777-7ff9-475d-9f95-b8d1fa93341b"
   },
   "outputs": [],
   "source": [
    "\"\"\"\n",
    "Train the model for num_epochs epochs\n",
    "epoch_true and epoch_all are used to calculate the accuracy.\n",
    "epoch_true is the number of correct predictions and epoch_all is the total number of predictions in the epoch\n",
    "\"\"\"\n",
    "EPOCHS = 60\n",
    "train_losses, validation_losses, train_f1_macros, val_f1_macros = [], [], [], []\n",
    "for epoch in range(EPOCHS):\n",
    "    train_loss, val_loss, correct_predicted = 0, 0, 0\n",
    "    predicted_labels_train, true_labels_train = [], []\n",
    "\n",
    "    model.train()\n",
    "    for i , (x, label) in enumerate(train_loader):\n",
    "        x, label = x.to(device), label.to(device)\n",
    "\n",
    "        optimizer.zero_grad()\n",
    "        outputs = model(x)\n",
    "        loss = criterion(outputs, label) * len(label)\n",
    "        loss.backward()\n",
    "        optimizer.step()\n",
    "\n",
    "        train_loss += loss.item()\n",
    "        preds = torch.argmax(outputs, 1)\n",
    "        correct_predicted += (preds == label).sum().item()\n",
    "\n",
    "        predicted_labels_train.extend(preds.cpu().numpy())\n",
    "        true_labels_train.extend(label.cpu().numpy())\n",
    "      \n",
    "    train_loss /= len(train_dataset)    \n",
    "    model.eval()\n",
    "    train_f1 = f1_score(true_labels_train, predicted_labels_train, average='macro')\n",
    "\n",
    "    val_loss, predicted_labels, true_labels, f1_score_macro = eval_epoch(model, criterion, val_loader)\n",
    "    lr_scheduler.step(val_loss)\n",
    "\n",
    "    train_losses.append(train_loss)\n",
    "    validation_losses.append(val_loss)\n",
    "    train_f1_macros.append(train_f1)\n",
    "    val_f1_macros.append(f1_score_macro)\n",
    "    print(f'Epoch {epoch + 1} - Train Loss = {round(train_loss, 4)}')"
   ]
  },
  {
   "cell_type": "markdown",
   "metadata": {
    "hidden": true
   },
   "source": [
    "### Evaluation"
   ]
  },
  {
   "cell_type": "code",
   "execution_count": null,
   "metadata": {
    "hidden": true,
    "id": "itFwRGkP5WoK",
    "outputId": "65853aa9-9c1a-4678-ffd4-3d6bfc0a5cc3"
   },
   "outputs": [],
   "source": [
    "plt.plot(train_losses)\n",
    "plt.plot(validation_losses)\n",
    "plt.title('Loss')\n",
    "plt.legend(['train', 'validation'])\n",
    "plt.show()"
   ]
  },
  {
   "cell_type": "code",
   "execution_count": null,
   "metadata": {
    "hidden": true,
    "id": "4BtRPVAq5WoK",
    "outputId": "e1632ffb-46cb-4e31-e5d4-62a4549f3819"
   },
   "outputs": [],
   "source": [
    "plt.plot(train_f1_macros)\n",
    "plt.plot(val_f1_macros)\n",
    "plt.title('F1 macro')\n",
    "plt.legend(['train', 'validation'])\n",
    "\n",
    "plt.show()"
   ]
  },
  {
   "cell_type": "markdown",
   "metadata": {
    "hidden": true
   },
   "source": [
    "We will evaluate the model on the test set with the following metrics:\n",
    "- accuracy\n",
    "- Loss\n",
    "- F1-Macro\n",
    "- F1-Micro\n",
    "- Confusion matrix\n",
    "- Macro-average precision\n",
    "- Macro-average recall\n",
    "- Micro-average precision\n",
    "- Micro-average recall"
   ]
  },
  {
   "cell_type": "code",
   "execution_count": null,
   "metadata": {
    "hidden": true,
    "id": "UEpblVVd5WoL",
    "outputId": "5f007060-0ce3-4515-a757-eef9d3bdbefc",
    "scrolled": true
   },
   "outputs": [],
   "source": [
    "model.eval()\n",
    "eval_loss, predicted_labels, true_labels, f1_score_macro = eval_epoch(model, criterion, test_loader, test_mode=True)\n",
    "\n",
    "print(\"Accuracy: \" + str(accuracy_score(true_labels, predicted_labels)))\n",
    "print(\"F1 macro: \" + str(f1_score(true_labels, predicted_labels, average='macro')))\n",
    "print(\"F1 micro: \" + str(f1_score(true_labels, predicted_labels, average='micro')))\n",
    "print(\"Precision macro: \" + str(precision_score(true_labels, predicted_labels, average='macro')))\n",
    "print(\"Precision micro: \" + str(precision_score(true_labels, predicted_labels, average='micro')))\n",
    "print(\"Recall macro: \" + str(recall_score(true_labels, predicted_labels, average='macro')))\n",
    "print(\"Recall micro: \" + str(recall_score(true_labels, predicted_labels, average='micro')))"
   ]
  },
  {
   "cell_type": "code",
   "execution_count": null,
   "metadata": {
    "hidden": true,
    "id": "xUb4RJia5WoL",
    "outputId": "ce478124-1746-4866-97fe-52d44e47bfe6"
   },
   "outputs": [],
   "source": [
    "def plot_confusion_matrix(y_true, y_pred, classes):\n",
    "    confusion_mat = np.zeros((3, 3), dtype=int)\n",
    "\n",
    "    for true, pred in zip(y_true, y_pred):\n",
    "        confusion_mat[true, pred] += 1\n",
    "\n",
    "    sns.heatmap(confusion_mat, annot=True, xticklabels=classes, yticklabels=classes)\n",
    "    plt.xlabel(\"predicted\")\n",
    "    plt.ylabel(\"actual\")\n",
    "    plt.show()\n",
    "\n",
    "plot_confusion_matrix(true_labels, predicted_labels, distinct_labels)"
   ]
  },
  {
   "cell_type": "code",
   "execution_count": null,
   "metadata": {
    "hidden": true,
    "id": "3K040kbI5WoL"
   },
   "outputs": [],
   "source": [
    "def predict(x):\n",
    "    \"\"\"\n",
    "    predict the class code of a given query\n",
    "    :param x: the que|ry\n",
    "    :return: the class of the query in the form of real strings.\n",
    "    \"\"\"\n",
    "    embedding = FastText_model.get_query_embedding(x, TF_IDF_model.vectorizer)\n",
    "    embedding = torch.tensor(embedding).view(1, -1).to(device)\n",
    "    model.eval()\n",
    "    output = model(embedding)\n",
    "    _ , predicted_class = torch.max(output.data, 1)\n",
    "    return labels_str[predicted_class]"
   ]
  },
  {
   "cell_type": "code",
   "execution_count": null,
   "metadata": {
    "hidden": true,
    "id": "xF-lBTJI5WoL",
    "outputId": "9f7637a6-2e70-4dfb-929d-9dace8f1afb0"
   },
   "outputs": [],
   "source": [
    "predict('hardware and computerc architecture is good')"
   ]
  },
  {
   "cell_type": "markdown",
   "metadata": {
    "heading_collapsed": true,
    "id": "duQo7eSP5WoL"
   },
   "source": [
    "## 🧠 Large Language Models (LLM)"
   ]
  },
  {
   "cell_type": "markdown",
   "metadata": {
    "hidden": true
   },
   "source": [
    "In this part, you will explore and implement Large Language Models (LLMs) to improve the classification and retrieval capabilities of your recommender system."
   ]
  },
  {
   "cell_type": "code",
   "execution_count": null,
   "metadata": {
    "hidden": true,
    "id": "DwLUsyaz5WoM"
   },
   "outputs": [],
   "source": [
    "import random\n",
    "import string\n",
    "\n",
    "import matplotlib.pyplot as plt\n",
    "import numpy as np\n",
    "import pandas as pd\n",
    "import seaborn as sns\n",
    "import torch\n",
    "from tqdm import tqdm\n",
    "\n",
    "import nltk\n",
    "from nltk import word_tokenize\n",
    "\n",
    "from sklearn.metrics import (\n",
    "    accuracy_score,\n",
    "    confusion_matrix,\n",
    "    ConfusionMatrixDisplay,\n",
    "    f1_score,\n",
    "    precision_recall_fscore_support,\n",
    "    recall_score,\n",
    ")\n",
    "from sklearn.model_selection import train_test_split\n",
    "from sklearn.preprocessing import LabelEncoder\n",
    "\n",
    "from transformers import (\n",
    "    BertTokenizer,\n",
    "    BertForSequenceClassification,\n",
    "    TrainingArguments,\n",
    "    Trainer,\n",
    ")"
   ]
  },
  {
   "cell_type": "markdown",
   "metadata": {
    "hidden": true,
    "id": "BF6b98Ay5WoM"
   },
   "source": [
    "### Load & Preprocess Data"
   ]
  },
  {
   "cell_type": "code",
   "execution_count": null,
   "metadata": {
    "hidden": true,
    "id": "Ygcw4IVZ5WoQ"
   },
   "outputs": [],
   "source": [
    "# read data\n",
    "df = pd.read_csv('./arxiv_data.csv')\n",
    "df = df.drop_duplicates(subset=['titles', 'summaries'])\n",
    "labels_str = [extract_label_from_labels(labels) for labels in df['terms']]\n",
    "label_encoder = LabelEncoder()\n",
    "labels = label_encoder.fit_transform(labels_str)"
   ]
  },
  {
   "cell_type": "code",
   "execution_count": null,
   "metadata": {
    "colab": {
     "base_uri": "https://localhost:8080/",
     "height": 641
    },
    "hidden": true,
    "id": "7A2eM-vY5WoR",
    "outputId": "b45d1ae4-4ddd-4645-a741-93109c7c3763"
   },
   "outputs": [],
   "source": [
    "df['preprocessed_abstract'] = df['summaries'].apply(lambda x: preprocess_text(x))\n",
    "df['preprocessed_title'] = df['titles'].apply(lambda x: preprocess_text(x))\n",
    "df['text'] = df['preprocessed_abstract'] + df['preprocessed_title']\n",
    "df['label'] = labels_str[:20000]\n",
    "df['text'] = df['text'].apply(lambda x: \" \".join(x))\n",
    "df"
   ]
  },
  {
   "cell_type": "code",
   "execution_count": null,
   "metadata": {
    "hidden": true,
    "id": "7e1aESM0seTe"
   },
   "outputs": [],
   "source": [
    "distinct_labels =  ['cs.CV' , 'cs.LG', 'stat.ML']"
   ]
  },
  {
   "cell_type": "markdown",
   "metadata": {
    "hidden": true,
    "id": "YiaWe0yL5WoR"
   },
   "source": [
    "### Prepare the Dataset"
   ]
  },
  {
   "cell_type": "code",
   "execution_count": null,
   "metadata": {
    "hidden": true,
    "id": "BniJl07z5WoR"
   },
   "outputs": [],
   "source": [
    "X, y = list(zip(*random.sample(list(zip( df['text'], labels)), 10000)))\n",
    "X_train, X_test, y_train, y_test = train_test_split(X, y, test_size=0.2, random_state=42)"
   ]
  },
  {
   "cell_type": "markdown",
   "metadata": {
    "hidden": true,
    "id": "4K3gBHrq5WoR"
   },
   "source": [
    "### Bert"
   ]
  },
  {
   "cell_type": "code",
   "execution_count": null,
   "metadata": {
    "colab": {
     "base_uri": "https://localhost:8080/"
    },
    "hidden": true,
    "id": "BLDVy5UJ5WoR",
    "outputId": "7774fabd-0cf0-4cfc-c2b0-08a4f0859ae0"
   },
   "outputs": [],
   "source": [
    "device = torch.device('cuda' if torch.cuda.is_available() else 'cpu')\n",
    "device"
   ]
  },
  {
   "cell_type": "code",
   "execution_count": null,
   "metadata": {
    "hidden": true,
    "id": "sqiylI3Z5WoR"
   },
   "outputs": [],
   "source": [
    "bert_model = BertForSequenceClassification.from_pretrained(\"./drive/MyDrive/bert_model/\", num_labels=3).to(device)\n",
    "bert_freeze_model = BertForSequenceClassification.from_pretrained(\"./drive/MyDrive/bert_freeze_model/\", num_labels=3).to(device)\n",
    "for param in bert_freeze_model.bert.parameters():\n",
    "    param.requires_grad = False\n",
    "\n",
    "tokenizer = BertTokenizer.from_pretrained(\"bert-base-uncased\", do_lower_case=True)"
   ]
  },
  {
   "cell_type": "code",
   "execution_count": null,
   "metadata": {
    "hidden": true,
    "id": "nWdtp3ny5WoS"
   },
   "outputs": [],
   "source": [
    "class BertDataset(torch.utils.data.Dataset):\n",
    "    def __init__(self, data, labels, tokenizer):\n",
    "        self.tokenizer = tokenizer\n",
    "        self.encoded_data = self.tokenizer(data, truncation=True, padding=True, max_length=512)\n",
    "        self.labels = labels\n",
    "\n",
    "    def __getitem__(self, idx):\n",
    "        item = {k: torch.tensor(v[idx]) for k, v in self.encoded_data.items()}\n",
    "        item['labels'] = torch.tensor([self.labels[idx]])\n",
    "        return item\n",
    "\n",
    "    def __len__(self):\n",
    "        return len(self.labels)\n",
    "\n",
    "train_dataset = BertDataset(X_train, y_train, tokenizer)\n",
    "test_dataset = BertDataset(X_test, y_test, tokenizer)"
   ]
  },
  {
   "cell_type": "code",
   "execution_count": null,
   "metadata": {
    "hidden": true,
    "id": "pHlbm7TY5WoS"
   },
   "outputs": [],
   "source": [
    "def compute_metrics(pred):\n",
    "    labels = pred.label_ids\n",
    "    preds = pred.predictions.argmax(-1)\n",
    "    acc = accuracy_score(labels, preds)\n",
    "    f1_score_macro = f1_score(labels, preds, average='macro')\n",
    "    f1_score_micro = f1_score(labels, preds, average='micro')\n",
    "    precision_macro = precision_score(labels, preds, average='macro')\n",
    "    precision_micro = precision_score(labels, preds, average='micro')\n",
    "    recall_macro = recall_score(labels, preds, average='macro')\n",
    "    recall_micro = recall_score(labels, preds, average='micro')    \n",
    "\n",
    "    return {\n",
    "      'accuracy': acc,\n",
    "      'f1 macro': f1_score_macro,\n",
    "      'f1 micro': f1_score_micro,\n",
    "      'precision macro': precision_macro,\n",
    "      'precisoin micro': precision_micro,\n",
    "      'recall macro': recall_macro,\n",
    "      'recall micro': recall_micro,\n",
    "    }"
   ]
  },
  {
   "cell_type": "markdown",
   "metadata": {
    "hidden": true
   },
   "source": [
    "### Fine-tune Bert"
   ]
  },
  {
   "cell_type": "code",
   "execution_count": null,
   "metadata": {
    "colab": {
     "base_uri": "https://localhost:8080/",
     "height": 328
    },
    "hidden": true,
    "id": "uHjskZEC5WoS",
    "outputId": "50a94dd9-dc26-48bf-9b96-bc34e0f08fda"
   },
   "outputs": [],
   "source": [
    "# fine tune bert and train model\n",
    "training_args = TrainingArguments(\n",
    "    output_dir='./bert_model',         \n",
    "    num_train_epochs=3,           \n",
    "    per_device_train_batch_size=20,\n",
    "    per_device_eval_batch_size=20,\n",
    "    weight_decay=0.01,\n",
    "    learning_rate=2e-4,\n",
    "    load_best_model_at_end=True,    \n",
    "    evaluation_strategy=\"steps\",\n",
    ")\n",
    "\n",
    "trainer = Trainer(\n",
    "    model=bert_model,                       \n",
    "    args=training_args,\n",
    "    train_dataset=train_dataset,\n",
    "    eval_dataset=test_dataset,\n",
    "    compute_metrics=compute_metrics,\n",
    ")\n",
    "\n",
    "trainer.train()"
   ]
  },
  {
   "cell_type": "code",
   "execution_count": null,
   "metadata": {
    "colab": {
     "base_uri": "https://localhost:8080/",
     "height": 398
    },
    "hidden": true,
    "id": "-ijDDxnE5WoS",
    "outputId": "47657727-b0da-4fd9-a9ea-fdd3d9e47dc1"
   },
   "outputs": [],
   "source": [
    "# freeze bert weights and then train model_2\n",
    "training_args_freeze = TrainingArguments(\n",
    "    output_dir='./bert_freeze_model/',         \n",
    "    num_train_epochs=3,           \n",
    "    per_device_train_batch_size=20,\n",
    "    per_device_eval_batch_size=20,\n",
    "    weight_decay=0.01,\n",
    "    learning_rate=2e-4,\n",
    "    load_best_model_at_end=True,\n",
    "    evaluation_strategy=\"steps\",\n",
    ")\n",
    "\n",
    "trainer_freeze = Trainer(\n",
    "    model=bert_freeze_model,                       \n",
    "    args=training_args_freeze,\n",
    "    train_dataset=train_dataset,\n",
    "    eval_dataset=test_dataset,\n",
    "    compute_metrics=compute_metrics,\n",
    ")\n",
    "\n",
    "trainer_freeze.train()"
   ]
  },
  {
   "cell_type": "code",
   "execution_count": null,
   "metadata": {
    "hidden": true,
    "id": "lJ3QLo1nJCg3"
   },
   "outputs": [],
   "source": [
    "trainer_freeze.save_model('./drive/MyDrive/bert_freeze_model')"
   ]
  },
  {
   "cell_type": "markdown",
   "metadata": {
    "hidden": true,
    "id": "bE2-PJL45WoS"
   },
   "source": [
    "### Evaluate model"
   ]
  },
  {
   "cell_type": "markdown",
   "metadata": {
    "hidden": true,
    "id": "DTd4hblQNDBT"
   },
   "source": [
    "We will evaluate the model on the test set with the following metrics:\n",
    "- accuracy\n",
    "- Loss\n",
    "- F1-Macro\n",
    "- F1-Micro\n",
    "- Confusion matrix\n",
    "- Macro-average precision\n",
    "- Macro-average recall\n",
    "- Micro-average precision\n",
    "- Micro-average recall"
   ]
  },
  {
   "cell_type": "code",
   "execution_count": null,
   "metadata": {
    "colab": {
     "base_uri": "https://localhost:8080/",
     "height": 72
    },
    "hidden": true,
    "id": "opO3itNl5WoS",
    "outputId": "ebb288aa-08ef-4cb5-e599-7ceaaff36ee9"
   },
   "outputs": [],
   "source": [
    "# you can add more cells here if you need\n",
    "y_pred_transformers_1 = [np.argmax(prediction, axis=0) for prediction in trainer.predict(test_dataset)[0]]\n",
    "y_pred_transformers_2 = [np.argmax(prediction, axis=0) for prediction in trainer_freeze.predict(test_dataset)[0]]"
   ]
  },
  {
   "cell_type": "code",
   "execution_count": null,
   "metadata": {
    "colab": {
     "base_uri": "https://localhost:8080/",
     "height": 455
    },
    "hidden": true,
    "id": "vow7tQrUOZxm",
    "outputId": "be840e0c-51ec-4b75-fd59-4e190ea522dd"
   },
   "outputs": [],
   "source": [
    "def plot_confusion_matrix(y_true, y_pred, classes):\n",
    "    confusion_mat = np.zeros((3, 3), dtype=int)\n",
    "\n",
    "    for true, pred in zip(y_true, y_pred):\n",
    "        confusion_mat[true, pred] += 1\n",
    "\n",
    "    sns.heatmap(confusion_mat, annot=True, xticklabels=classes, yticklabels=classes)\n",
    "    plt.xlabel(\"predicted\")\n",
    "    plt.ylabel(\"actual\")\n",
    "    plt.show()\n",
    "\n",
    "plot_confusion_matrix(y_test, y_pred_transformers_1, distinct_labels)"
   ]
  },
  {
   "cell_type": "code",
   "execution_count": null,
   "metadata": {
    "colab": {
     "base_uri": "https://localhost:8080/",
     "height": 449
    },
    "hidden": true,
    "id": "o0usemMjOdt9",
    "outputId": "51b83d3a-976a-4906-ecb4-70ccf1b8bbfd"
   },
   "outputs": [],
   "source": [
    "plot_confusion_matrix(y_test, y_pred_transformers_2, distinct_labels)"
   ]
  },
  {
   "cell_type": "code",
   "execution_count": null,
   "metadata": {
    "hidden": true,
    "id": "jJLMMw4l5WoT"
   },
   "outputs": [],
   "source": [
    "def predict(x, model):\n",
    "    \"\"\"\n",
    "    predict the class code of a given query\n",
    "    :param x: the query\n",
    "    :return: the class of the query in the form of real strings.\n",
    "    \"\"\"\n",
    "    encoded_input = tokenizer(x, padding=True, truncation=True, max_length=512, return_tensors='pt')\n",
    "    input_ids = encoded_input['input_ids'].to(device)\n",
    "    attention_mask = encoded_input['attention_mask'].to(device)\n",
    "    output = model(input_ids, attention_mask)\n",
    "    _, prediction = torch.max(output[0], dim=1)\n",
    "\n",
    "    return list(label_encoder.inverse_transform(prediction.to('cpu').numpy()))[0]"
   ]
  },
  {
   "cell_type": "code",
   "execution_count": null,
   "metadata": {
    "colab": {
     "base_uri": "https://localhost:8080/",
     "height": 35
    },
    "hidden": true,
    "id": "elIy6FXt5WoT",
    "outputId": "7836897e-332a-41a0-9ac8-14fa1d5d624b"
   },
   "outputs": [],
   "source": [
    "predict('hardware is very good.', trainer.model)"
   ]
  },
  {
   "cell_type": "markdown",
   "metadata": {},
   "source": [
    "## 🧮 Clustering "
   ]
  },
  {
   "cell_type": "markdown",
   "metadata": {},
   "source": [
    "This section encompasses the following three parts:\n",
    "1. **Document Embedding Extraction**\n",
    "2. **Dimensionality Reduction**\n",
    "2. **K-Means Clustering**\n",
    "3. **Hierarchical Clustering**"
   ]
  },
  {
   "cell_type": "code",
   "execution_count": null,
   "metadata": {},
   "outputs": [],
   "source": [
    "import pickle\n",
    "import random\n",
    "import string\n",
    "\n",
    "import matplotlib.pyplot as plt\n",
    "import numpy as np\n",
    "import pandas as pd\n",
    "import scipy.cluster.hierarchy as shc\n",
    "import torch\n",
    "from tqdm import tqdm\n",
    "from typing import List\n",
    "\n",
    "import nltk\n",
    "from nltk import word_tokenize\n",
    "\n",
    "from sklearn.manifold import TSNE\n",
    "from sklearn.metrics import (\n",
    "    accuracy_score,\n",
    "    confusion_matrix,\n",
    "    ConfusionMatrixDisplay,\n",
    "    f1_score,\n",
    "    precision_recall_fscore_support,\n",
    "    precision_score,\n",
    "    recall_score,\n",
    ")\n",
    "from sklearn.model_selection import train_test_split\n",
    "from sklearn.preprocessing import LabelEncoder\n",
    "\n",
    "from transformers import BertTokenizer, BertForSequenceClassification, TrainingArguments, Trainer, BertTokenizerFast, BertModel"
   ]
  },
  {
   "cell_type": "markdown",
   "metadata": {
    "id": "dMmGLx3I5WoT"
   },
   "source": [
    "### Document Embedding Extraction\n",
    "\n",
    "Although it's possible to create document embeddings using the Bag of Words approach, this section will guide you through leveraging **Transformer-based language models** to potentially achieve better clustering results. We'll follow these steps:\n",
    "\n",
    "1. **Use Transformer Models**:\n",
    "   - Instead of traditional methods, you'll use Transformer-based models to extract embeddings for each document. These models are available through the HuggingFace library, which offers a variety of pre-trained models.\n",
    "  \n",
    "2. **Implement the `extract_embedding` Function**:\n",
    "   - Implement the `extract_embedding` function, which takes a list of documents as input and returns a list of corresponding embeddings.\n",
    "  \n",
    "3. **Embedding Calculation Methods**:\n",
    "   - There are multiple approaches to calculating the embedding for each document, including:\n",
    "     - **CLS Token Embedding**: Using the embedding of the CLS token from models like BERT.\n",
    "     - **Averaging**: Computing the average of token embeddings, which can be weighted or unweighted.\n",
    "   - Choose the method that best fits your needs.\n",
    "\n",
    "This process will generate meaningful embeddings for each document, enabling more effective clustering and analysis.\n",
    "\n",
    "---\n",
    "\n",
    "This translation captures the purpose and technical details of the original Persian text, maintaining a clear and professional tone in line with the other sections. Let me know if there's anything else you need!"
   ]
  },
  {
   "cell_type": "code",
   "execution_count": null,
   "metadata": {
    "id": "1W5wy7JxseTi"
   },
   "outputs": [],
   "source": [
    "df = df.head(20000)\n",
    "label = labels[:20000]"
   ]
  },
  {
   "cell_type": "code",
   "execution_count": null,
   "metadata": {
    "id": "MFVgm8ufx7AV"
   },
   "outputs": [],
   "source": [
    "device = 'cuda' if torch.cuda.is_available() else 'cpu'\n",
    "print(device)\n",
    "tokenizer = BertTokenizerFast.from_pretrained('bert-base-uncased')\n",
    "bert = BertModel.from_pretrained('bert-base-uncased').to(device)"
   ]
  },
  {
   "cell_type": "code",
   "execution_count": null,
   "metadata": {
    "id": "UoCicySm5WoU"
   },
   "outputs": [],
   "source": [
    "def extract_embedding(doc_list : List):\n",
    "    \"\"\"Extracts embedding vector for each document in doc_list\n",
    "\n",
    "    Parameters\n",
    "    ----------\n",
    "    doc_list : List\n",
    "        A list of documents\n",
    "\n",
    "    Returns\n",
    "    -------\n",
    "    list\n",
    "        A list of embedding vectors\n",
    "    \"\"\"\n",
    "    embeddings = []\n",
    "    with torch.no_grad():\n",
    "        for doc in doc_list:\n",
    "            inputs = tokenizer(doc, return_tensors='pt', truncation=True, padding=True, max_length=512).to(device)\n",
    "            h = bert(**inputs, output_hidden_states=True).hidden_states[-1][0,0,:]\n",
    "            embeddings.append(h.detach().cpu().numpy())\n",
    "\n",
    "        return np.array(embeddings)\n",
    "\n",
    "df_embedding = extract_embedding(df['text'])"
   ]
  },
  {
   "cell_type": "code",
   "execution_count": null,
   "metadata": {
    "id": "12rVFKPNseTi",
    "outputId": "75d7a52f-c980-405e-8010-e0b18a7f0e5c"
   },
   "outputs": [],
   "source": [
    "with open('docs_embedding.pkl', 'rb') as f:\n",
    "      df_embedding = pickle.load(f)\n",
    "\n",
    "df_embedding.shape"
   ]
  },
  {
   "cell_type": "markdown",
   "metadata": {},
   "source": [
    "### Dimentionality Reduction\n",
    "\n",
    "In this part, we will use [TSNE](https://scikit-learn.org/stable/modules/generated/sklearn.manifold.TSNE.html) to reduce the dimensionality of the embedding vectors."
   ]
  },
  {
   "cell_type": "code",
   "execution_count": null,
   "metadata": {
    "id": "cEzmtlIX5WoU"
   },
   "outputs": [],
   "source": [
    "def convert_to_2d_tsne(emb_vecs : List):\n",
    "    \"\"\"Converts each raw embedding vector to 2d vector \n",
    "\n",
    "    Parameters\n",
    "    ----------\n",
    "    emb_vecs : List\n",
    "        A list of vectors\n",
    "\n",
    "    Returns\n",
    "    -------\n",
    "    list\n",
    "        A list of 2d vectors\n",
    "    \"\"\"\n",
    "    return TSNE(n_components=2).fit_transform(emb_vecs)\n",
    "\n",
    "df_2d = convert_to_2d_tsne(df_embedding) # return [[NUM, NUM], [NUM, NUM], [NUM, NUM], ...]"
   ]
  },
  {
   "cell_type": "code",
   "execution_count": null,
   "metadata": {
    "id": "Z7Kvvfrc5WoU"
   },
   "outputs": [],
   "source": [
    "def plot_docs(emb_vecs_2d: List, labels : List, title):\n",
    "    \"\"\"Draws a 2d plot of input vectors\n",
    "\n",
    "    Parameters\n",
    "    ----------\n",
    "    emb_2d_vecs : List\n",
    "        A list of 2d vectors\n",
    "\n",
    "    Returns\n",
    "    -------\n",
    "    \"\"\"\n",
    "    plt.scatter(emb_vecs_2d[:, 0], emb_vecs_2d[:, 1], c=labels, alpha=0.4)\n",
    "    plt.title(title)\n",
    "    plt.show()"
   ]
  },
  {
   "cell_type": "markdown",
   "metadata": {
    "id": "f0zdReIr5WoU"
   },
   "source": [
    "### K-MEANS"
   ]
  },
  {
   "cell_type": "markdown",
   "metadata": {},
   "source": [
    "In this section, we'll implement K-Means clustering to group similar documents together, which will help in improving the accuracy and relevancy of the recommender system. Steps include:\n",
    "1. **Preprocess the Data**: Prepare the document embeddings for clustering.\n",
    "2. **Implement K-Means**: Apply the K-Means algorithm to cluster the dataset.\n",
    "3. **Analyze Results**: Silhouette analysis, purity score, and plot the results."
   ]
  },
  {
   "cell_type": "code",
   "execution_count": null,
   "metadata": {
    "id": "uISPG0RE5WoU",
    "outputId": "d253d0ff-154b-4c49-b48b-7e4aaaab6e88",
    "scrolled": false
   },
   "outputs": [],
   "source": [
    "def cluster_kmeans(emb_vecs : List, n_clusters : int):\n",
    "    \"\"\"Clusters input vectors using K-means method\n",
    "\n",
    "    Parameters\n",
    "    ----------\n",
    "    emb_vecs : List\n",
    "        A list of vectors\n",
    "\n",
    "    Returns\n",
    "    -------\n",
    "    list\n",
    "        Two lists: 1) A list containing cluster centers 2) A list containing cluster index for each input vector\n",
    "    \"\"\"\n",
    "    \n",
    "    total_cnt = len(emb_vecs)\n",
    "    rand_indices = np.random.choice(total_cnt, n_clusters, replace=False)\n",
    "    \n",
    "    cluster_centers = np.array(emb_vecs)[rand_indices]\n",
    "    cluster_labels = -1 * np.ones(total_cnt, dtype=int) \n",
    "    n_iters = 20\n",
    "    for _ in range(n_iters):\n",
    "        # calculate samples label\n",
    "        for i in range(total_cnt):\n",
    "            to_center_dists = [np.linalg.norm(emb_vecs[i] - cluster_centers[j]) for j in range(n_clusters)]\n",
    "            cluster_labels[i] = np.argmin(to_center_dists)\n",
    "        \n",
    "        # recalculate cluster centers position\n",
    "        for i in range(n_clusters):\n",
    "            cluster_centers[i] = np.mean([emb_vecs[j] for j in range(total_cnt) if cluster_labels[j] == i], axis=0)\n",
    "\n",
    "    return cluster_centers.tolist(), cluster_labels.tolist()\n",
    "\n",
    "cluster_centers, cluster_labels = [], []\n",
    "\n",
    "\n",
    "k_s = list(range(2, 7))\n",
    "for k in k_s:\n",
    "    clusters_centers, clusters_labels = cluster_kmeans(df_embedding, k)\n",
    "    cluster_centers.append(clusters_centers)\n",
    "    cluster_labels.append(clusters_labels)\n",
    "    plot_docs(df_2d, clusters_labels, f'k = {k}')"
   ]
  },
  {
   "cell_type": "code",
   "execution_count": null,
   "metadata": {
    "id": "IqOEdIyd5WoV",
    "outputId": "4555bef3-b30b-4b1a-b081-748a91e92150"
   },
   "outputs": [],
   "source": [
    "# silhouette analysis \n",
    "from sklearn.metrics import silhouette_samples, silhouette_score\n",
    "\n",
    "silhouette_scores = []\n",
    "for i in range(len(k_s)):\n",
    "    silhouette_scores.append(silhouette_score(df_embedding, cluster_labels[i]))\n",
    "    \n",
    "plt.plot(k_s, silhouette_scores)\n",
    "\n",
    "plt.title('silhouette scores')\n",
    "plt.show()"
   ]
  },
  {
   "cell_type": "code",
   "execution_count": null,
   "metadata": {
    "id": "8YnbrZcd5WoV",
    "outputId": "adb7238c-af72-414c-9df0-309d114ba7d6"
   },
   "outputs": [],
   "source": [
    "# plot purity for different value of k\n",
    "purities = []\n",
    "for i in range(len(k_s)):\n",
    "    conf_mat = confusion_matrix(label, cluster_labels[i])\n",
    "    purities.append(np.sum(np.amax(conf_mat, axis=0)) / np.sum(conf_mat))\n",
    "plt.plot(k_s, purities)\n",
    "plt.title('purity')\n",
    "plt.show()"
   ]
  },
  {
   "cell_type": "code",
   "execution_count": null,
   "metadata": {},
   "outputs": [],
   "source": [
    "plt.figure(figsize=(15, 8))"
   ]
  },
  {
   "cell_type": "code",
   "execution_count": null,
   "metadata": {
    "id": "q7MOUXUB5WoV",
    "outputId": "d0d4a0bb-b391-4659-fa9c-c3dfd023a056"
   },
   "outputs": [],
   "source": [
    "Z = shc.linkage(df_embedding, 'ward')\n",
    "dn = shc.dendrogram(Z)\n",
    "plt.show()"
   ]
  },
  {
   "cell_type": "code",
   "execution_count": null,
   "metadata": {
    "id": "ZqWlGlc_5WoV"
   },
   "outputs": [],
   "source": [
    "title_query = 'Survey on Semantic Stereo Matching / Semantic Depth Estimation',\n",
    "summaries_query = 'Survey on Semantic Stereo Matching / Semantic Depth Estimation',\n",
    "doc_ids = search(\n",
    "    'Survey on Semantic Stereo Matching / Semantic Depth Estimation',\n",
    "    'Survey on Semantic Stereo Matching / Semantic Depth Estimation',\n",
    "    10,\n",
    "    method='ltc-lnc',\n",
    "    category='all',\n",
    ")\n",
    "\n",
    "kmeans_clusters_center = cluster_centers[0]\n",
    "embeddings = df_embedding[np.array(doc_ids)]\n",
    "current_predicted_labels = []\n",
    "for i, emb in enumerate(embeddings):\n",
    "    to_center_dists = [np.linalg.norm(emb - kmeans_clusters_center[j]) for j in range(len(kmeans_clusters_center))]\n",
    "    current_predicted_labels[i] = np.argmin(to_center_dists)\n",
    "\n",
    "for paper_id, current_predicted_label in zip(doc_ids, current_predicted_labels):\n",
    "    print(f'Paper Id = {paper_id}, Predicted Cluster = {current_predicted_label}')"
   ]
  },
  {
   "cell_type": "markdown",
   "metadata": {
    "id": "zK7hl9Qd5WoV"
   },
   "source": [
    "### 🔍 Evaluation"
   ]
  },
  {
   "cell_type": "markdown",
   "metadata": {},
   "source": [
    "This task involves implementing a function to find documents similar to a given one.\n",
    "\n",
    "#### Function: `find_similar_docs`\n",
    "\n",
    "- **Input**: Index of the target document, number of similar documents to find, and list of embedding vectors.\n",
    "- **Output**: Indices of the most similar documents in the dataset, ranked by similarity.\n",
    "- **Similarity Measure**: You can choose the similarity metric that best fits your data and objectives.\n",
    "\n",
    "#### Steps:\n",
    "\n",
    "1. **Calculate Similarity**: Identify the closest vectors to the target document's vector.\n",
    "2. **Rank & Return**: Sort the documents by similarity and return the top results.\n"
   ]
  },
  {
   "cell_type": "code",
   "execution_count": null,
   "metadata": {
    "id": "_CNYAns05WoV"
   },
   "outputs": [],
   "source": [
    "def find_similar_docs(input_doc_index : int,\n",
    "                      num_of_similar_docs: int,\n",
    "                      emb_vecs : List):\n",
    "    \"\"\"Finds similar documents to input in dataset\n",
    "\n",
    "    Parameters\n",
    "    ----------\n",
    "    input_doc_index: int\n",
    "        Index of input document vector in emb_vecs list to search for specific paper\n",
    "\n",
    "    num_of_similar_docs:\n",
    "        Number of similar documents to return \n",
    "\n",
    "    emb_vecs : List\n",
    "        A list of vectors corresponding to documents\n",
    "\n",
    "    Returns\n",
    "    -------\n",
    "    List\n",
    "        A list of similar document indexes to input document\n",
    "    \"\"\"\n",
    "\n",
    "    input_doc = emb_vecs[input_doc_index]\n",
    "    docs_similarity = [np.dot(input_doc, doc) for doc in emb_vecs]\n",
    "    return np.argsort(docs_similarity)[1:num_of_similar_docs + 1]\n"
   ]
  }
 ],
 "metadata": {
  "accelerator": "GPU",
  "colab": {
   "gpuType": "T4",
   "provenance": []
  },
  "kernelspec": {
   "display_name": "Python 3 (ipykernel)",
   "language": "python",
   "name": "python3"
  },
  "language_info": {
   "codemirror_mode": {
    "name": "ipython",
    "version": 3
   },
   "file_extension": ".py",
   "mimetype": "text/x-python",
   "name": "python",
   "nbconvert_exporter": "python",
   "pygments_lexer": "ipython3",
   "version": "3.9.19"
  },
  "toc": {
   "base_numbering": 1,
   "nav_menu": {},
   "number_sections": true,
   "sideBar": true,
   "skip_h1_title": false,
   "title_cell": "Table of Contents",
   "title_sidebar": "Contents",
   "toc_cell": false,
   "toc_position": {},
   "toc_section_display": true,
   "toc_window_display": false
  }
 },
 "nbformat": 4,
 "nbformat_minor": 1
}
